{
 "cells": [
  {
   "cell_type": "code",
   "execution_count": 5,
   "metadata": {},
   "outputs": [],
   "source": [
    "# In this file I am working on defining functions and on using local and global variables. "
   ]
  },
  {
   "cell_type": "code",
   "execution_count": null,
   "metadata": {},
   "outputs": [],
   "source": [
    "# 1. Defining and using functions\n",
    "\n",
    "# Define the function which prints out the album ratings \n",
    "def printStuff(Stuff):\n",
    "    for i,s in enumerate(Stuff): #call the index of each value in a list/tuple\n",
    "        print(\"Album\", i, \"rating is \", s)"
   ]
  },
  {
   "cell_type": "code",
   "execution_count": 6,
   "metadata": {},
   "outputs": [
    {
     "name": "stdout",
     "output_type": "stream",
     "text": [
      "Album 0 rating is  10\n",
      "Album 1 rating is  4\n",
      "Album 2 rating is  6\n"
     ]
    }
   ],
   "source": [
    "printStuff([10,4,6])"
   ]
  },
  {
   "cell_type": "code",
   "execution_count": 21,
   "metadata": {},
   "outputs": [],
   "source": [
    "# Print the elements of a list\n",
    "def PrintList(list):\n",
    "    for element in list:\n",
    "        print(element)"
   ]
  },
  {
   "cell_type": "code",
   "execution_count": 22,
   "metadata": {},
   "outputs": [
    {
     "name": "stdout",
     "output_type": "stream",
     "text": [
      "4\n",
      "5\n",
      "99\n"
     ]
    }
   ],
   "source": [
    "PrintList([4,5,99])"
   ]
  },
  {
   "cell_type": "code",
   "execution_count": 24,
   "metadata": {},
   "outputs": [],
   "source": [
    "# Setting a default value in the function\n",
    "def Score(rating = 4):\n",
    "    if rating > 7:\n",
    "        print('This album is good, its rating is', rating)\n",
    "    else:\n",
    "        print(\"Don't listen to this one\")"
   ]
  },
  {
   "cell_type": "code",
   "execution_count": 26,
   "metadata": {
    "scrolled": true
   },
   "outputs": [
    {
     "name": "stdout",
     "output_type": "stream",
     "text": [
      "Don't listen to this one\n",
      "Don't listen to this one\n",
      "This album is good, its rating is 10\n"
     ]
    }
   ],
   "source": [
    "Score() # we do not define a parameter in this case, so the default value is used\n",
    "Score(3) # here the parameter is set to 3 so the \"else\" option is printed out\n",
    "Score(10) #the parameter value is 10, statement under \"if\" is true "
   ]
  },
  {
   "cell_type": "code",
   "execution_count": 14,
   "metadata": {},
   "outputs": [],
   "source": [
    "# 2. Local & Global variables\n",
    "\n",
    "# Local variable Date\n",
    "def Thriller(Date):\n",
    "    Date = 1982\n",
    "    print(Date)"
   ]
  },
  {
   "cell_type": "code",
   "execution_count": 15,
   "metadata": {},
   "outputs": [
    {
     "name": "stdout",
     "output_type": "stream",
     "text": [
      "1982\n",
      "2007\n"
     ]
    }
   ],
   "source": [
    "# Global variable Date\n",
    "Date = 2007\n",
    "Thriller(Date)\n",
    "print(Date)"
   ]
  },
  {
   "cell_type": "code",
   "execution_count": 18,
   "metadata": {},
   "outputs": [],
   "source": [
    "# checking which variable will be used if we define the function as follows:\n",
    "def PrintDate(b):\n",
    "    print(Date)"
   ]
  },
  {
   "cell_type": "code",
   "execution_count": 20,
   "metadata": {},
   "outputs": [
    {
     "name": "stdout",
     "output_type": "stream",
     "text": [
      "2007\n"
     ]
    }
   ],
   "source": [
    "# variable Date is taken from the global scope\n",
    "PrintDate(45)"
   ]
  }
 ],
 "metadata": {
  "kernelspec": {
   "display_name": "Python 3",
   "language": "python",
   "name": "python3"
  },
  "language_info": {
   "codemirror_mode": {
    "name": "ipython",
    "version": 3
   },
   "file_extension": ".py",
   "mimetype": "text/x-python",
   "name": "python",
   "nbconvert_exporter": "python",
   "pygments_lexer": "ipython3",
   "version": "3.6.10"
  }
 },
 "nbformat": 4,
 "nbformat_minor": 4
}
